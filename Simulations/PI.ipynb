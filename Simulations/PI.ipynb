{
 "cells": [
  {
   "cell_type": "code",
   "execution_count": 2,
   "id": "523f2d2b-b9ad-4496-8238-dead2a405ee3",
   "metadata": {},
   "outputs": [],
   "source": [
    "import numpy as np\n",
    "from qiskit import *\n",
    "from math import pi\n",
    "from qiskit import transpile\n",
    "from qiskit_aer import AerSimulator\n",
    "from qiskit.visualization import plot_histogram\n",
    "import matplotlib.pyplot as plt"
   ]
  },
  {
   "cell_type": "code",
   "execution_count": 3,
   "id": "e85c7d19-e3d3-4183-b741-fa9c0790f506",
   "metadata": {},
   "outputs": [],
   "source": [
    "backend = BasicAer.get_backend('unitary_simulator')"
   ]
  },
  {
   "cell_type": "code",
   "execution_count": 4,
   "id": "f7a28d71-9bc4-42fa-a1b0-7306c8ee5b93",
   "metadata": {},
   "outputs": [],
   "source": [
    "def Ramsey(omega,t):\n",
    "    q = QuantumRegister(1)\n",
    "    c = ClassicalRegister(1)\n",
    "    circ=QuantumCircuit(q,c)\n",
    "    circ.u(pi/2,0,0,q)\n",
    "    circ.p(-omega*t,q)\n",
    "    circ.u(pi/2,0,0,q)\n",
    "    circ.draw()\n",
    "    circ.barrier(range(1))\n",
    "    circ.measure(q,c)\n",
    "    backend = AerSimulator()\n",
    "    qc_compiled = transpile(circ, backend)\n",
    "    job_sim = backend.run(qc_compiled, shots=10000)\n",
    "    result_sim = job_sim.result()\n",
    "    counts = result_sim.get_counts(qc_compiled)\n",
    "    return counts\n",
    "    "
   ]
  },
  {
   "cell_type": "code",
   "execution_count": null,
   "id": "6d2b36af-c78f-4358-86cf-1a752cb64401",
   "metadata": {},
   "outputs": [],
   "source": [
    "circ = Ramsey(pi,3)\n",
    "circ.draw()"
   ]
  },
  {
   "cell_type": "code",
   "execution_count": null,
   "id": "3a2ed538-76dc-4532-a433-0d460c934805",
   "metadata": {},
   "outputs": [],
   "source": []
  },
  {
   "cell_type": "code",
   "execution_count": 5,
   "id": "a47f758c-3d05-46c2-ae22-ffac34743bd5",
   "metadata": {},
   "outputs": [
    {
     "name": "stdout",
     "output_type": "stream",
     "text": [
      "{'1': 5000, '0': 5000}\n"
     ]
    },
    {
     "data": {
      "image/png": "[encoded data removed]",
      "text/plain": [
       "<Figure size 504x360 with 1 Axes>"
      ]
     },
     "execution_count": 5,
     "metadata": {},
     "output_type": "execute_result"
    }
   ],
   "source": [
    "counts = Ramsey(pi/2,1)\n",
    "print(counts)\n",
    "plot_histogram(counts)"
   ]
  },
  {
   "cell_type": "code",
   "execution_count": 6,
   "id": "42e14a88-7cd7-4dee-847e-ef70e0e912dd",
   "metadata": {},
   "outputs": [],
   "source": [
    "def Ramsey_measurement(omega):\n",
    "    temps = np.linspace(0,5,1000)\n",
    "    P=[]\n",
    "    for k in temps:\n",
    "        counts = Ramsey(omega,k)\n",
    "        if len(counts) != 2:\n",
    "            if counts == {'0':10000}:\n",
    "                proba = 0\n",
    "            else:\n",
    "                proba = 1\n",
    "        else:\n",
    "            proba = counts['1'] / (counts['1'] + counts['0'])\n",
    "        P.append(proba)\n",
    "    return P\n"
   ]
  },
  {
   "cell_type": "code",
   "execution_count": 9,
   "id": "8dab8456-acfd-482a-8369-93169d7f01a2",
   "metadata": {},
   "outputs": [
    {
     "data": {
      "image/png": "[encoded data removed]",
      "text/plain": [
       "<Figure size 432x288 with 1 Axes>"
      ]
     },
     "metadata": {
      "needs_background": "light"
     },
     "output_type": "display_data"
    }
   ],
   "source": [
    "P = Ramsey_measurement(pi/2)\n",
    "temps = np.linspace(0,5,1000)\n",
    "plt.plot(temps, P)\n",
    "plt.show()"
   ]
  },
  {
   "cell_type": "code",
   "execution_count": null,
   "id": "f0a7451e-ef5e-42e3-83ef-a5a480509d8e",
   "metadata": {},
   "outputs": [],
   "source": []
  }
 ],
 "metadata": {
  "kernelspec": {
   "display_name": "Python 3 (ipykernel)",
   "language": "python",
   "name": "python3"
  },
  "language_info": {
   "codemirror_mode": {
    "name": "ipython",
    "version": 3
   },
   "file_extension": ".py",
   "mimetype": "text/x-python",
   "name": "python",
   "nbconvert_exporter": "python",
   "pygments_lexer": "ipython3",
   "version": "3.8.13"
  },
  "widgets": {
   "application/vnd.jupyter.widget-state+json": {
    "state": {},
    "version_major": 2,
    "version_minor": 0
   }
  }
 },
 "nbformat": 4,
 "nbformat_minor": 5
}
