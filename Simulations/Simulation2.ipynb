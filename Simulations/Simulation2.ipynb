import numpy as np
from qiskit import *
from math import pi
from qiskit import transpile
from qiskit_aer import AerSimulator
from qiskit.visualization import plot_histogram
import matplotlib.pyplot as plt

backend = BasicAer.get_backend('unitary_simulator')

def Ramsey(omega,t):
    q = QuantumRegister(1)
    c = ClassicalRegister(1)
    circ=QuantumCircuit(q,c)
    circ.u(pi/2,0,0,q)
    circ.p(-omega*t,q)
    circ.u(pi/2,0,0,q)
    circ.draw()
    circ.barrier(range(1))
    circ.measure(q,c)
    backend = AerSimulator()
    qc_compiled = transpile(circ, backend)
    job_sim = backend.run(qc_compiled, shots=10000)
    result_sim = job_sim.result()
    counts = result_sim.get_counts(qc_compiled)
    return counts

def Ramsey_measurement(omega):
    temps = np.linspace(0,5,1000)
    P=[]
    for k in temps:
        counts = Ramsey(omega,k)
        if len(counts) != 2:
            if counts == {'0':10000}:
                proba = 0
            else:
                proba = 1
        else:
            proba = counts['1'] / (counts['1'] + counts['0'])
        P.append(proba)
    return P

def Ramsey_graphe(omega):
    P = Ramsey_measurement(pi/2)
    temps = np.linspace(0,5,1000)
    plt.plot(temps, P)
    plt.show()
