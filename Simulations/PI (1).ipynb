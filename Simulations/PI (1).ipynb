{
 "cells": [
  {
   "cell_type": "code",
   "execution_count": 1,
   "id": "523f2d2b-b9ad-4496-8238-dead2a405ee3",
   "metadata": {},
   "outputs": [
    {
     "name": "stderr",
     "output_type": "stream",
     "text": [
      "<frozen importlib._bootstrap>:219: RuntimeWarning: scipy._lib.messagestream.MessageStream size changed, may indicate binary incompatibility. Expected 56 from C header, got 64 from PyObject\n"
     ]
    }
   ],
   "source": [
    "import numpy as np\n",
    "from qiskit import *\n",
    "from math import pi\n",
    "from qiskit import transpile\n",
    "from qiskit_aer import AerSimulator\n",
    "from qiskit.visualization import plot_histogram\n",
    "import matplotlib.pyplot as plt"
   ]
  },
  {
   "cell_type": "code",
   "execution_count": 2,
   "id": "e85c7d19-e3d3-4183-b741-fa9c0790f506",
   "metadata": {},
   "outputs": [],
   "source": [
    "backend = BasicAer.get_backend('unitary_simulator') #connection au backend d'IBM\n",
    "NOMBRE_MESURE = 10000 #nombre de mesure pour estimer une probabilité\n",
    "TF = 5 #temps final\n",
    "NOMBRE_POINTS = 1000 #nombre de points pour tracer la courbe"
   ]
  },
  {
   "cell_type": "code",
   "execution_count": 3,
   "id": "f7a28d71-9bc4-42fa-a1b0-7306c8ee5b93",
   "metadata": {},
   "outputs": [],
   "source": [
    "def Ramsey(omega,t):\n",
    "    global NOMBRE_MESURE\n",
    "    q = QuantumRegister(1) #création qbit\n",
    "    c = ClassicalRegister(1) #création d'un registre classique pour mesure\n",
    "    circ=QuantumCircuit(q,c)\n",
    "    circ.u(pi/2,0,0,q) #mise en état de superposition\n",
    "    circ.p(-omega*t,q) #application de l'hamiltonien\n",
    "    circ.u(pi/2,0,0,q) \n",
    "    circ.draw()\n",
    "    circ.barrier(range(1))\n",
    "    circ.measure(q,c) #mesure\n",
    "    backend = AerSimulator()\n",
    "    qc_compiled = transpile(circ, backend)\n",
    "    job_sim = backend.run(qc_compiled, shots=NOMBRE_MESURE) #on simule l'expérience NOMBRE_MESURE fois\n",
    "    result_sim = job_sim.result()\n",
    "    counts = result_sim.get_counts(qc_compiled) #on récupère le nombre d'état \"0\" et \"1\" pbtenus\n",
    "    return counts\n",
    "    "
   ]
  },
  {
   "cell_type": "code",
   "execution_count": 5,
   "id": "a47f758c-3d05-46c2-ae22-ffac34743bd5",
   "metadata": {},
   "outputs": [
    {
     "name": "stdout",
     "output_type": "stream",
     "text": [
      "{'1': 4944, '0': 5056}\n"
     ]
    },
    {
     "data": {
      "image/png": "[encoded data removed]",
      "text/plain": [
       "<Figure size 504x360 with 1 Axes>"
      ]
     },
     "execution_count": 5,
     "metadata": {},
     "output_type": "execute_result"
    }
   ],
   "source": [
    "counts = Ramsey(pi/2,1)\n",
    "print(counts)\n",
    "plot_histogram(counts)"
   ]
  },
  {
   "cell_type": "code",
   "execution_count": 6,
   "id": "42e14a88-7cd7-4dee-847e-ef70e0e912dd",
   "metadata": {},
   "outputs": [],
   "source": [
    "def Ramsey_measurement(omega):\n",
    "    global NOMBRE_MESURE\n",
    "    global TF\n",
    "    global NOMBRE_POINTS\n",
    "    temps = np.linspace(0,TF,NOMBRE_POINTS) #échantillonnage\n",
    "    P=[]\n",
    "    for k in temps: #on trace chaque point 1 par 1\n",
    "        counts = Ramsey(omega,k)\n",
    "        if len(counts) != 2: #exception s'il n'uy a que des \"0\" ou des \"1\"\n",
    "            if counts == {'0':NOMBRE_MESURE}:\n",
    "                proba = 0\n",
    "            else:\n",
    "                proba = 1\n",
    "        else:\n",
    "            proba = counts['1'] / (counts['1'] + counts['0']) #on calcule la probabilité que le qbit soit dans l'état \"1\"\n",
    "        P.append(proba)\n",
    "    return P\n"
   ]
  },
  {
   "cell_type": "code",
   "execution_count": 7,
   "id": "8dab8456-acfd-482a-8369-93169d7f01a2",
   "metadata": {},
   "outputs": [],
   "source": [
    "def Ramsey_graphe(omega): #tracage de la courbe\n",
    "    global TF\n",
    "    global NOMBRE_POINTS\n",
    "    P = Ramsey_measurement(pi/2)\n",
    "    temps = np.linspace(0,TF,NOMBRE_POINTS)\n",
    "    plt.plot(temps, P)\n",
    "    plt.show()"
   ]
  },
  {
   "cell_type": "code",
   "execution_count": null,
   "id": "49f82442-89d1-4cc3-8cd9-baf26c5eac5a",
   "metadata": {},
   "outputs": [],
   "source": [
    "Ramsey_graphe(pi/2)"
   ]
  },
  {
   "cell_type": "code",
   "execution_count": null,
   "id": "f0a7451e-ef5e-42e3-83ef-a5a480509d8e",
   "metadata": {},
   "outputs": [],
   "source": []
  }
 ],
 "metadata": {
  "kernelspec": {
   "display_name": "Python 3 (ipykernel)",
   "language": "python",
   "name": "python3"
  },
  "language_info": {
   "codemirror_mode": {
    "name": "ipython",
    "version": 3
   },
   "file_extension": ".py",
   "mimetype": "text/x-python",
   "name": "python",
   "nbconvert_exporter": "python",
   "pygments_lexer": "ipython3",
   "version": "3.8.13"
  },
  "widgets": {
   "application/vnd.jupyter.widget-state+json": {
    "state": {},
    "version_major": 2,
    "version_minor": 0
   }
  }
 },
 "nbformat": 4,
 "nbformat_minor": 5
}
